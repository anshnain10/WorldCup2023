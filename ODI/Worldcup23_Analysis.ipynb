{
 "cells": [
  {
   "cell_type": "markdown",
   "id": "7e0d0b75-886a-4c0d-9bee-27356ed1e666",
   "metadata": {},
   "source": [
    "## Importing Libraries"
   ]
  },
  {
   "cell_type": "code",
   "execution_count": 16,
   "id": "aaeb4706-f91b-43bb-a705-bd13aab89a5e",
   "metadata": {},
   "outputs": [],
   "source": [
    "import pandas as pd\n",
    "from sqlalchemy import create_engine"
   ]
  },
  {
   "cell_type": "markdown",
   "id": "13e369a9-1881-4594-b244-22b7062a3025",
   "metadata": {},
   "source": [
    "## Establishing Connection Between SQL and Python"
   ]
  },
  {
   "cell_type": "markdown",
   "id": "b0935a51-d64d-4b60-8509-c8b6dc9af850",
   "metadata": {},
   "source": [
    "**Match Analysis**"
   ]
  },
  {
   "cell_type": "code",
   "execution_count": 342,
   "id": "1c38a503-a390-4abb-aa72-3e0d66b197ed",
   "metadata": {},
   "outputs": [],
   "source": [
    "DATABASE_USER = \"root\"\n",
    "DATABASE_PASSWORD = \"ansh2003\"\n",
    "DATABASE_NAME = \"ODIWORLDCUP2023\"\n",
    "DATABASE_HOST = \"localhost\"\n",
    "\n",
    "engine = create_engine(f\"mysql+mysqlconnector://{DATABASE_USER}:{DATABASE_PASSWORD}@{DATABASE_HOST}/{DATABASE_NAME}\")\n",
    "\n",
    "\n",
    "query = \"SELECT * FROM matches\"\n",
    "df = pd.read_sql(query, engine)\n",
    "\n",
    "conn.close()"
   ]
  },
  {
   "cell_type": "code",
   "execution_count": 344,
   "id": "1a4812b2-2328-4245-809c-5b9d56dc3683",
   "metadata": {},
   "outputs": [
    {
     "data": {
      "text/html": [
       "<div>\n",
       "<style scoped>\n",
       "    .dataframe tbody tr th:only-of-type {\n",
       "        vertical-align: middle;\n",
       "    }\n",
       "\n",
       "    .dataframe tbody tr th {\n",
       "        vertical-align: top;\n",
       "    }\n",
       "\n",
       "    .dataframe thead th {\n",
       "        text-align: right;\n",
       "    }\n",
       "</style>\n",
       "<table border=\"1\" class=\"dataframe\">\n",
       "  <thead>\n",
       "    <tr style=\"text-align: right;\">\n",
       "      <th></th>\n",
       "      <th>season</th>\n",
       "      <th>team1</th>\n",
       "      <th>team2</th>\n",
       "      <th>date</th>\n",
       "      <th>match_number</th>\n",
       "      <th>venue</th>\n",
       "      <th>city</th>\n",
       "      <th>toss_winner</th>\n",
       "      <th>toss_decision</th>\n",
       "      <th>player_of_match</th>\n",
       "      <th>umpire1</th>\n",
       "      <th>umpire2</th>\n",
       "      <th>reserve_umpire</th>\n",
       "      <th>match_referee</th>\n",
       "      <th>winner</th>\n",
       "      <th>winner_runs</th>\n",
       "      <th>winner_wickets</th>\n",
       "      <th>match_type</th>\n",
       "    </tr>\n",
       "  </thead>\n",
       "  <tbody>\n",
       "    <tr>\n",
       "      <th>0</th>\n",
       "      <td>2023/24</td>\n",
       "      <td>England</td>\n",
       "      <td>New Zealand</td>\n",
       "      <td>2023/10/05</td>\n",
       "      <td>1</td>\n",
       "      <td>Narendra Modi Stadium</td>\n",
       "      <td>Ahmedabad</td>\n",
       "      <td>New Zealand</td>\n",
       "      <td>field</td>\n",
       "      <td>R Ravindra</td>\n",
       "      <td>HDPK Dharmasena</td>\n",
       "      <td>Nitin Menon</td>\n",
       "      <td>Sharfuddoula</td>\n",
       "      <td>J Srinath</td>\n",
       "      <td>New Zealand</td>\n",
       "      <td></td>\n",
       "      <td>9</td>\n",
       "      <td>Group</td>\n",
       "    </tr>\n",
       "    <tr>\n",
       "      <th>1</th>\n",
       "      <td>2023/24</td>\n",
       "      <td>Pakistan</td>\n",
       "      <td>Netherlands</td>\n",
       "      <td>2023/10/06</td>\n",
       "      <td>2</td>\n",
       "      <td>Rajiv Gandhi International Stadium</td>\n",
       "      <td>Hyderabad</td>\n",
       "      <td>Netherlands</td>\n",
       "      <td>field</td>\n",
       "      <td>Saud Shakeel</td>\n",
       "      <td>AT Holdstock</td>\n",
       "      <td>CM Brown</td>\n",
       "      <td>PR Reiffel</td>\n",
       "      <td>JJ Crowe</td>\n",
       "      <td>Pakistan</td>\n",
       "      <td>81</td>\n",
       "      <td></td>\n",
       "      <td>Group</td>\n",
       "    </tr>\n",
       "    <tr>\n",
       "      <th>2</th>\n",
       "      <td>2023/24</td>\n",
       "      <td>Afghanistan</td>\n",
       "      <td>Bangladesh</td>\n",
       "      <td>2023/10/07</td>\n",
       "      <td>3</td>\n",
       "      <td>Himachal Pradesh Cricket Association Stadium</td>\n",
       "      <td>Dharamsala</td>\n",
       "      <td>Bangladesh</td>\n",
       "      <td>field</td>\n",
       "      <td>Mehedi Hasan Miraz</td>\n",
       "      <td>JS Wilson</td>\n",
       "      <td>HDPK Dharmasena</td>\n",
       "      <td>M Erasmus</td>\n",
       "      <td>AJ Pycroft</td>\n",
       "      <td>Bangladesh</td>\n",
       "      <td></td>\n",
       "      <td>6</td>\n",
       "      <td>Group</td>\n",
       "    </tr>\n",
       "    <tr>\n",
       "      <th>3</th>\n",
       "      <td>2023/24</td>\n",
       "      <td>South Africa</td>\n",
       "      <td>Sri Lanka</td>\n",
       "      <td>2023/10/07</td>\n",
       "      <td>4</td>\n",
       "      <td>Arun Jaitley Stadium</td>\n",
       "      <td>Delhi</td>\n",
       "      <td>Sri Lanka</td>\n",
       "      <td>field</td>\n",
       "      <td>AK Markram</td>\n",
       "      <td>RK Illingworth</td>\n",
       "      <td>Sharfuddoula</td>\n",
       "      <td>AG Wharf</td>\n",
       "      <td>J Srinath</td>\n",
       "      <td>South Africa</td>\n",
       "      <td>102</td>\n",
       "      <td></td>\n",
       "      <td>Group</td>\n",
       "    </tr>\n",
       "    <tr>\n",
       "      <th>4</th>\n",
       "      <td>2023/24</td>\n",
       "      <td>Australia</td>\n",
       "      <td>India</td>\n",
       "      <td>2023/10/08</td>\n",
       "      <td>5</td>\n",
       "      <td>MA Chidambaram Stadium</td>\n",
       "      <td>Chennai</td>\n",
       "      <td>Australia</td>\n",
       "      <td>bat</td>\n",
       "      <td>KL Rahul</td>\n",
       "      <td>CB Gaffaney</td>\n",
       "      <td>RA Kettleborough</td>\n",
       "      <td>AT Holdstock</td>\n",
       "      <td>RB Richardson</td>\n",
       "      <td>India</td>\n",
       "      <td></td>\n",
       "      <td>6</td>\n",
       "      <td>Group</td>\n",
       "    </tr>\n",
       "  </tbody>\n",
       "</table>\n",
       "</div>"
      ],
      "text/plain": [
       "    season         team1        team2        date  match_number  \\\n",
       "0  2023/24       England  New Zealand  2023/10/05             1   \n",
       "1  2023/24      Pakistan  Netherlands  2023/10/06             2   \n",
       "2  2023/24   Afghanistan   Bangladesh  2023/10/07             3   \n",
       "3  2023/24  South Africa    Sri Lanka  2023/10/07             4   \n",
       "4  2023/24     Australia        India  2023/10/08             5   \n",
       "\n",
       "                                          venue        city  toss_winner  \\\n",
       "0                         Narendra Modi Stadium   Ahmedabad  New Zealand   \n",
       "1            Rajiv Gandhi International Stadium   Hyderabad  Netherlands   \n",
       "2  Himachal Pradesh Cricket Association Stadium  Dharamsala   Bangladesh   \n",
       "3                          Arun Jaitley Stadium       Delhi    Sri Lanka   \n",
       "4                        MA Chidambaram Stadium     Chennai    Australia   \n",
       "\n",
       "  toss_decision     player_of_match          umpire1           umpire2  \\\n",
       "0         field          R Ravindra  HDPK Dharmasena       Nitin Menon   \n",
       "1         field        Saud Shakeel     AT Holdstock          CM Brown   \n",
       "2         field  Mehedi Hasan Miraz        JS Wilson   HDPK Dharmasena   \n",
       "3         field          AK Markram   RK Illingworth      Sharfuddoula   \n",
       "4           bat            KL Rahul      CB Gaffaney  RA Kettleborough   \n",
       "\n",
       "  reserve_umpire  match_referee        winner winner_runs winner_wickets  \\\n",
       "0   Sharfuddoula      J Srinath   New Zealand                          9   \n",
       "1     PR Reiffel       JJ Crowe      Pakistan          81                  \n",
       "2      M Erasmus     AJ Pycroft    Bangladesh                          6   \n",
       "3       AG Wharf      J Srinath  South Africa         102                  \n",
       "4   AT Holdstock  RB Richardson         India                          6   \n",
       "\n",
       "  match_type  \n",
       "0      Group  \n",
       "1      Group  \n",
       "2      Group  \n",
       "3      Group  \n",
       "4      Group  "
      ]
     },
     "execution_count": 344,
     "metadata": {},
     "output_type": "execute_result"
    }
   ],
   "source": [
    "df.head(5)\n"
   ]
  },
  {
   "cell_type": "code",
   "execution_count": 335,
   "id": "e0661fc5-a660-49c4-a512-f9b046f7c7a9",
   "metadata": {},
   "outputs": [
    {
     "data": {
      "text/plain": [
       "(48, 18)"
      ]
     },
     "execution_count": 335,
     "metadata": {},
     "output_type": "execute_result"
    }
   ],
   "source": [
    "df.shape"
   ]
  },
  {
   "cell_type": "code",
   "execution_count": 346,
   "id": "21e6403e-d4ea-48ac-af18-586bd10e77de",
   "metadata": {},
   "outputs": [
    {
     "data": {
      "text/html": [
       "<div>\n",
       "<style scoped>\n",
       "    .dataframe tbody tr th:only-of-type {\n",
       "        vertical-align: middle;\n",
       "    }\n",
       "\n",
       "    .dataframe tbody tr th {\n",
       "        vertical-align: top;\n",
       "    }\n",
       "\n",
       "    .dataframe thead th {\n",
       "        text-align: right;\n",
       "    }\n",
       "</style>\n",
       "<table border=\"1\" class=\"dataframe\">\n",
       "  <thead>\n",
       "    <tr style=\"text-align: right;\">\n",
       "      <th></th>\n",
       "      <th>match_number</th>\n",
       "    </tr>\n",
       "  </thead>\n",
       "  <tbody>\n",
       "    <tr>\n",
       "      <th>count</th>\n",
       "      <td>48.00</td>\n",
       "    </tr>\n",
       "    <tr>\n",
       "      <th>mean</th>\n",
       "      <td>24.50</td>\n",
       "    </tr>\n",
       "    <tr>\n",
       "      <th>std</th>\n",
       "      <td>14.00</td>\n",
       "    </tr>\n",
       "    <tr>\n",
       "      <th>min</th>\n",
       "      <td>1.00</td>\n",
       "    </tr>\n",
       "    <tr>\n",
       "      <th>25%</th>\n",
       "      <td>12.75</td>\n",
       "    </tr>\n",
       "    <tr>\n",
       "      <th>50%</th>\n",
       "      <td>24.50</td>\n",
       "    </tr>\n",
       "    <tr>\n",
       "      <th>75%</th>\n",
       "      <td>36.25</td>\n",
       "    </tr>\n",
       "    <tr>\n",
       "      <th>max</th>\n",
       "      <td>48.00</td>\n",
       "    </tr>\n",
       "  </tbody>\n",
       "</table>\n",
       "</div>"
      ],
      "text/plain": [
       "       match_number\n",
       "count         48.00\n",
       "mean          24.50\n",
       "std           14.00\n",
       "min            1.00\n",
       "25%           12.75\n",
       "50%           24.50\n",
       "75%           36.25\n",
       "max           48.00"
      ]
     },
     "execution_count": 346,
     "metadata": {},
     "output_type": "execute_result"
    }
   ],
   "source": [
    "df.describe()"
   ]
  },
  {
   "cell_type": "code",
   "execution_count": 337,
   "id": "79f6a733-6925-4d38-9f94-93dfe55be345",
   "metadata": {},
   "outputs": [
    {
     "data": {
      "text/plain": [
       "season             0\n",
       "team1              0\n",
       "team2              0\n",
       "date               0\n",
       "match_number       0\n",
       "venue              0\n",
       "city               0\n",
       "toss_winner        0\n",
       "toss_decision      0\n",
       "player_of_match    0\n",
       "umpire1            0\n",
       "umpire2            0\n",
       "reserve_umpire     0\n",
       "match_referee      0\n",
       "winner             0\n",
       "winner_runs        0\n",
       "winner_wickets     0\n",
       "match_type         0\n",
       "dtype: int64"
      ]
     },
     "execution_count": 337,
     "metadata": {},
     "output_type": "execute_result"
    }
   ],
   "source": [
    "df.isnull().sum()"
   ]
  },
  {
   "cell_type": "code",
   "execution_count": 350,
   "id": "1fee7ddb-46f4-40d0-a1d3-4fede62b09a2",
   "metadata": {},
   "outputs": [
    {
     "name": "stdout",
     "output_type": "stream",
     "text": [
      "<class 'pandas.core.frame.DataFrame'>\n",
      "RangeIndex: 48 entries, 0 to 47\n",
      "Data columns (total 18 columns):\n",
      " #   Column           Non-Null Count  Dtype \n",
      "---  ------           --------------  ----- \n",
      " 0   season           48 non-null     object\n",
      " 1   team1            48 non-null     object\n",
      " 2   team2            48 non-null     object\n",
      " 3   date             48 non-null     object\n",
      " 4   match_number     48 non-null     int64 \n",
      " 5   venue            48 non-null     object\n",
      " 6   city             48 non-null     object\n",
      " 7   toss_winner      48 non-null     object\n",
      " 8   toss_decision    48 non-null     object\n",
      " 9   player_of_match  48 non-null     object\n",
      " 10  umpire1          48 non-null     object\n",
      " 11  umpire2          48 non-null     object\n",
      " 12  reserve_umpire   48 non-null     object\n",
      " 13  match_referee    48 non-null     object\n",
      " 14  winner           48 non-null     object\n",
      " 15  winner_runs      48 non-null     object\n",
      " 16  winner_wickets   48 non-null     object\n",
      " 17  match_type       48 non-null     object\n",
      "dtypes: int64(1), object(17)\n",
      "memory usage: 6.9+ KB\n"
     ]
    }
   ],
   "source": [
    "df.info()"
   ]
  },
  {
   "cell_type": "code",
   "execution_count": 352,
   "id": "2aaf7d87-fd86-4a92-bf5e-8061c2520d1e",
   "metadata": {},
   "outputs": [],
   "source": [
    "df['toss_decision'] = df['toss_decision'].replace({'bat': 'Bat', 'field': 'Field'})"
   ]
  },
  {
   "cell_type": "markdown",
   "id": "5c936cab-8722-436f-a7d9-525187f7cb70",
   "metadata": {},
   "source": [
    "**Toss winners who won the match, analyzed venue-wise**"
   ]
  },
  {
   "cell_type": "code",
   "execution_count": 80,
   "id": "e648de47-fb7e-4f04-b1b4-264b073711fc",
   "metadata": {},
   "outputs": [
    {
     "name": "stdout",
     "output_type": "stream",
     "text": [
      "                                          venue  match_count\n",
      "1                                  Eden Gardens            3\n",
      "3                         M Chinnaswamy Stadium            3\n",
      "5       Maharashtra Cricket Association Stadium            3\n",
      "6                         Narendra Modi Stadium            3\n",
      "0                          Arun Jaitley Stadium            2\n",
      "2  Himachal Pradesh Cricket Association Stadium            2\n",
      "7                              Wankhede Stadium            2\n",
      "4                        MA Chidambaram Stadium            1\n"
     ]
    }
   ],
   "source": [
    "df_winner= df[df['toss_winner']==df['winner']].groupby('venue').size().reset_index(name='match_count')\n",
    "result=df_winner.sort_values(by='match_count', ascending=False)\n",
    "print(result)"
   ]
  },
  {
   "cell_type": "markdown",
   "id": "440f98c1-d5cf-42f5-86b9-74193fb7c552",
   "metadata": {},
   "source": [
    "**Toss winners who won the match, analyzed based on batting or bowling first**"
   ]
  },
  {
   "cell_type": "code",
   "execution_count": 88,
   "id": "73b653be-a06d-46e3-9216-441266128dc8",
   "metadata": {},
   "outputs": [
    {
     "name": "stdout",
     "output_type": "stream",
     "text": [
      "  toss_decision  Wins\n",
      "0           Bat     8\n",
      "1         Field    11\n"
     ]
    }
   ],
   "source": [
    "df_winner2= df[df['toss_winner']==df['winner']].groupby('toss_decision').size().reset_index(name='Wins')\n",
    "print(df_winner2)"
   ]
  },
  {
   "cell_type": "markdown",
   "id": "148fe57c-c874-462e-9c9e-e9c8ab9b19fe",
   "metadata": {},
   "source": [
    "## Points Table Analysis"
   ]
  },
  {
   "cell_type": "code",
   "execution_count": 90,
   "id": "5c663d57-8b28-40ff-8c24-7c9da4a31a5d",
   "metadata": {},
   "outputs": [],
   "source": [
    "query2 = \"SELECT * FROM points_table\"\n",
    "df2 = pd.read_sql(query2, engine)"
   ]
  },
  {
   "cell_type": "code",
   "execution_count": 100,
   "id": "fac811e5-0d7b-4817-b7fb-81dcd878557a",
   "metadata": {},
   "outputs": [
    {
     "data": {
      "text/html": [
       "<div>\n",
       "<style scoped>\n",
       "    .dataframe tbody tr th:only-of-type {\n",
       "        vertical-align: middle;\n",
       "    }\n",
       "\n",
       "    .dataframe tbody tr th {\n",
       "        vertical-align: top;\n",
       "    }\n",
       "\n",
       "    .dataframe thead th {\n",
       "        text-align: right;\n",
       "    }\n",
       "</style>\n",
       "<table border=\"1\" class=\"dataframe\">\n",
       "  <thead>\n",
       "    <tr style=\"text-align: right;\">\n",
       "      <th></th>\n",
       "      <th>Ranking</th>\n",
       "      <th>Team</th>\n",
       "      <th>Matches</th>\n",
       "      <th>Won</th>\n",
       "      <th>Lost</th>\n",
       "      <th>Tie</th>\n",
       "      <th>No Results</th>\n",
       "      <th>Points</th>\n",
       "      <th>Net Run Rate</th>\n",
       "      <th>For</th>\n",
       "      <th>Against</th>\n",
       "    </tr>\n",
       "  </thead>\n",
       "  <tbody>\n",
       "    <tr>\n",
       "      <th>0</th>\n",
       "      <td>1</td>\n",
       "      <td>India</td>\n",
       "      <td>9</td>\n",
       "      <td>9</td>\n",
       "      <td>0</td>\n",
       "      <td>0</td>\n",
       "      <td>0</td>\n",
       "      <td>18</td>\n",
       "      <td>2.570</td>\n",
       "      <td>2523/396.2</td>\n",
       "      <td>1708/450.0</td>\n",
       "    </tr>\n",
       "    <tr>\n",
       "      <th>1</th>\n",
       "      <td>2</td>\n",
       "      <td>South Africa</td>\n",
       "      <td>9</td>\n",
       "      <td>7</td>\n",
       "      <td>2</td>\n",
       "      <td>0</td>\n",
       "      <td>0</td>\n",
       "      <td>14</td>\n",
       "      <td>1.261</td>\n",
       "      <td>2685/437.5</td>\n",
       "      <td>2158/443.0</td>\n",
       "    </tr>\n",
       "    <tr>\n",
       "      <th>2</th>\n",
       "      <td>3</td>\n",
       "      <td>Australia</td>\n",
       "      <td>9</td>\n",
       "      <td>7</td>\n",
       "      <td>2</td>\n",
       "      <td>0</td>\n",
       "      <td>0</td>\n",
       "      <td>14</td>\n",
       "      <td>0.841</td>\n",
       "      <td>2631/426.5</td>\n",
       "      <td>2349/441.2</td>\n",
       "    </tr>\n",
       "    <tr>\n",
       "      <th>3</th>\n",
       "      <td>4</td>\n",
       "      <td>New Zealand</td>\n",
       "      <td>9</td>\n",
       "      <td>5</td>\n",
       "      <td>4</td>\n",
       "      <td>0</td>\n",
       "      <td>0</td>\n",
       "      <td>10</td>\n",
       "      <td>0.743</td>\n",
       "      <td>2315/378.0</td>\n",
       "      <td>2279/423.3</td>\n",
       "    </tr>\n",
       "    <tr>\n",
       "      <th>4</th>\n",
       "      <td>5</td>\n",
       "      <td>Pakistan</td>\n",
       "      <td>9</td>\n",
       "      <td>4</td>\n",
       "      <td>5</td>\n",
       "      <td>0</td>\n",
       "      <td>0</td>\n",
       "      <td>8</td>\n",
       "      <td>-0.199</td>\n",
       "      <td>2328/406.2</td>\n",
       "      <td>2385/402.2</td>\n",
       "    </tr>\n",
       "  </tbody>\n",
       "</table>\n",
       "</div>"
      ],
      "text/plain": [
       "   Ranking          Team  Matches  Won  Lost  Tie  No Results  Points  \\\n",
       "0        1         India        9    9     0    0           0      18   \n",
       "1        2  South Africa        9    7     2    0           0      14   \n",
       "2        3     Australia        9    7     2    0           0      14   \n",
       "3        4   New Zealand        9    5     4    0           0      10   \n",
       "4        5      Pakistan        9    4     5    0           0       8   \n",
       "\n",
       "   Net Run Rate         For     Against  \n",
       "0         2.570  2523/396.2  1708/450.0  \n",
       "1         1.261  2685/437.5  2158/443.0  \n",
       "2         0.841  2631/426.5  2349/441.2  \n",
       "3         0.743  2315/378.0  2279/423.3  \n",
       "4        -0.199  2328/406.2  2385/402.2  "
      ]
     },
     "execution_count": 100,
     "metadata": {},
     "output_type": "execute_result"
    }
   ],
   "source": [
    "df2.head(5)"
   ]
  },
  {
   "cell_type": "code",
   "execution_count": null,
   "id": "a60b193b-a627-4011-9203-9b987ae0d8ea",
   "metadata": {},
   "outputs": [],
   "source": [
    "df2.drop('For',axis=1,inplace=True)"
   ]
  },
  {
   "cell_type": "code",
   "execution_count": 117,
   "id": "3b9315b2-ad2e-4f82-a5da-dcdb66e3bc71",
   "metadata": {},
   "outputs": [],
   "source": [
    "df2.drop('Against',axis=1,inplace=True)"
   ]
  },
  {
   "cell_type": "code",
   "execution_count": 119,
   "id": "d51f26e1-361a-41db-9538-26dd4f9891bd",
   "metadata": {},
   "outputs": [
    {
     "data": {
      "text/html": [
       "<div>\n",
       "<style scoped>\n",
       "    .dataframe tbody tr th:only-of-type {\n",
       "        vertical-align: middle;\n",
       "    }\n",
       "\n",
       "    .dataframe tbody tr th {\n",
       "        vertical-align: top;\n",
       "    }\n",
       "\n",
       "    .dataframe thead th {\n",
       "        text-align: right;\n",
       "    }\n",
       "</style>\n",
       "<table border=\"1\" class=\"dataframe\">\n",
       "  <thead>\n",
       "    <tr style=\"text-align: right;\">\n",
       "      <th></th>\n",
       "      <th>Ranking</th>\n",
       "      <th>Team</th>\n",
       "      <th>Matches</th>\n",
       "      <th>Won</th>\n",
       "      <th>Lost</th>\n",
       "      <th>Tie</th>\n",
       "      <th>No Results</th>\n",
       "      <th>Points</th>\n",
       "      <th>Net Run Rate</th>\n",
       "    </tr>\n",
       "  </thead>\n",
       "  <tbody>\n",
       "    <tr>\n",
       "      <th>0</th>\n",
       "      <td>1</td>\n",
       "      <td>India</td>\n",
       "      <td>9</td>\n",
       "      <td>9</td>\n",
       "      <td>0</td>\n",
       "      <td>0</td>\n",
       "      <td>0</td>\n",
       "      <td>18</td>\n",
       "      <td>2.570</td>\n",
       "    </tr>\n",
       "    <tr>\n",
       "      <th>1</th>\n",
       "      <td>2</td>\n",
       "      <td>South Africa</td>\n",
       "      <td>9</td>\n",
       "      <td>7</td>\n",
       "      <td>2</td>\n",
       "      <td>0</td>\n",
       "      <td>0</td>\n",
       "      <td>14</td>\n",
       "      <td>1.261</td>\n",
       "    </tr>\n",
       "    <tr>\n",
       "      <th>2</th>\n",
       "      <td>3</td>\n",
       "      <td>Australia</td>\n",
       "      <td>9</td>\n",
       "      <td>7</td>\n",
       "      <td>2</td>\n",
       "      <td>0</td>\n",
       "      <td>0</td>\n",
       "      <td>14</td>\n",
       "      <td>0.841</td>\n",
       "    </tr>\n",
       "    <tr>\n",
       "      <th>3</th>\n",
       "      <td>4</td>\n",
       "      <td>New Zealand</td>\n",
       "      <td>9</td>\n",
       "      <td>5</td>\n",
       "      <td>4</td>\n",
       "      <td>0</td>\n",
       "      <td>0</td>\n",
       "      <td>10</td>\n",
       "      <td>0.743</td>\n",
       "    </tr>\n",
       "    <tr>\n",
       "      <th>4</th>\n",
       "      <td>5</td>\n",
       "      <td>Pakistan</td>\n",
       "      <td>9</td>\n",
       "      <td>4</td>\n",
       "      <td>5</td>\n",
       "      <td>0</td>\n",
       "      <td>0</td>\n",
       "      <td>8</td>\n",
       "      <td>-0.199</td>\n",
       "    </tr>\n",
       "  </tbody>\n",
       "</table>\n",
       "</div>"
      ],
      "text/plain": [
       "   Ranking          Team  Matches  Won  Lost  Tie  No Results  Points  \\\n",
       "0        1         India        9    9     0    0           0      18   \n",
       "1        2  South Africa        9    7     2    0           0      14   \n",
       "2        3     Australia        9    7     2    0           0      14   \n",
       "3        4   New Zealand        9    5     4    0           0      10   \n",
       "4        5      Pakistan        9    4     5    0           0       8   \n",
       "\n",
       "   Net Run Rate  \n",
       "0         2.570  \n",
       "1         1.261  \n",
       "2         0.841  \n",
       "3         0.743  \n",
       "4        -0.199  "
      ]
     },
     "execution_count": 119,
     "metadata": {},
     "output_type": "execute_result"
    }
   ],
   "source": [
    "df2.head(5)"
   ]
  },
  {
   "cell_type": "code",
   "execution_count": 121,
   "id": "d3c22067-6db3-4080-b2e1-05484a4701af",
   "metadata": {},
   "outputs": [
    {
     "data": {
      "text/html": [
       "<div>\n",
       "<style scoped>\n",
       "    .dataframe tbody tr th:only-of-type {\n",
       "        vertical-align: middle;\n",
       "    }\n",
       "\n",
       "    .dataframe tbody tr th {\n",
       "        vertical-align: top;\n",
       "    }\n",
       "\n",
       "    .dataframe thead th {\n",
       "        text-align: right;\n",
       "    }\n",
       "</style>\n",
       "<table border=\"1\" class=\"dataframe\">\n",
       "  <thead>\n",
       "    <tr style=\"text-align: right;\">\n",
       "      <th></th>\n",
       "      <th>Ranking</th>\n",
       "      <th>Team</th>\n",
       "      <th>Matches</th>\n",
       "      <th>Won</th>\n",
       "      <th>Lost</th>\n",
       "      <th>Tie</th>\n",
       "      <th>No Results</th>\n",
       "      <th>Points</th>\n",
       "      <th>Net Run Rate</th>\n",
       "    </tr>\n",
       "  </thead>\n",
       "  <tbody>\n",
       "    <tr>\n",
       "      <th>5</th>\n",
       "      <td>6</td>\n",
       "      <td>Afghanistan</td>\n",
       "      <td>9</td>\n",
       "      <td>4</td>\n",
       "      <td>5</td>\n",
       "      <td>0</td>\n",
       "      <td>0</td>\n",
       "      <td>8</td>\n",
       "      <td>-0.336</td>\n",
       "    </tr>\n",
       "    <tr>\n",
       "      <th>6</th>\n",
       "      <td>7</td>\n",
       "      <td>England</td>\n",
       "      <td>9</td>\n",
       "      <td>3</td>\n",
       "      <td>6</td>\n",
       "      <td>0</td>\n",
       "      <td>0</td>\n",
       "      <td>6</td>\n",
       "      <td>-0.572</td>\n",
       "    </tr>\n",
       "    <tr>\n",
       "      <th>7</th>\n",
       "      <td>8</td>\n",
       "      <td>Bangladesh</td>\n",
       "      <td>9</td>\n",
       "      <td>2</td>\n",
       "      <td>7</td>\n",
       "      <td>0</td>\n",
       "      <td>0</td>\n",
       "      <td>4</td>\n",
       "      <td>-1.087</td>\n",
       "    </tr>\n",
       "    <tr>\n",
       "      <th>8</th>\n",
       "      <td>9</td>\n",
       "      <td>Sri Lanka</td>\n",
       "      <td>9</td>\n",
       "      <td>2</td>\n",
       "      <td>7</td>\n",
       "      <td>0</td>\n",
       "      <td>0</td>\n",
       "      <td>4</td>\n",
       "      <td>-1.419</td>\n",
       "    </tr>\n",
       "    <tr>\n",
       "      <th>9</th>\n",
       "      <td>10</td>\n",
       "      <td>Netherlands</td>\n",
       "      <td>9</td>\n",
       "      <td>2</td>\n",
       "      <td>7</td>\n",
       "      <td>0</td>\n",
       "      <td>0</td>\n",
       "      <td>4</td>\n",
       "      <td>-1.825</td>\n",
       "    </tr>\n",
       "  </tbody>\n",
       "</table>\n",
       "</div>"
      ],
      "text/plain": [
       "   Ranking         Team  Matches  Won  Lost  Tie  No Results  Points  \\\n",
       "5        6  Afghanistan        9    4     5    0           0       8   \n",
       "6        7      England        9    3     6    0           0       6   \n",
       "7        8   Bangladesh        9    2     7    0           0       4   \n",
       "8        9    Sri Lanka        9    2     7    0           0       4   \n",
       "9       10  Netherlands        9    2     7    0           0       4   \n",
       "\n",
       "   Net Run Rate  \n",
       "5        -0.336  \n",
       "6        -0.572  \n",
       "7        -1.087  \n",
       "8        -1.419  \n",
       "9        -1.825  "
      ]
     },
     "execution_count": 121,
     "metadata": {},
     "output_type": "execute_result"
    }
   ],
   "source": [
    "df2.tail(5)"
   ]
  },
  {
   "cell_type": "markdown",
   "id": "57978306-b165-48f9-b7ce-71d472013f19",
   "metadata": {},
   "source": [
    "**Worst Performing Team**"
   ]
  },
  {
   "cell_type": "code",
   "execution_count": 145,
   "id": "51e5d351-81be-4c5e-9224-45ea2267c249",
   "metadata": {},
   "outputs": [
    {
     "data": {
      "text/html": [
       "<div>\n",
       "<style scoped>\n",
       "    .dataframe tbody tr th:only-of-type {\n",
       "        vertical-align: middle;\n",
       "    }\n",
       "\n",
       "    .dataframe tbody tr th {\n",
       "        vertical-align: top;\n",
       "    }\n",
       "\n",
       "    .dataframe thead th {\n",
       "        text-align: right;\n",
       "    }\n",
       "</style>\n",
       "<table border=\"1\" class=\"dataframe\">\n",
       "  <thead>\n",
       "    <tr style=\"text-align: right;\">\n",
       "      <th></th>\n",
       "      <th>Ranking</th>\n",
       "      <th>Team</th>\n",
       "      <th>Matches</th>\n",
       "      <th>Won</th>\n",
       "      <th>Lost</th>\n",
       "      <th>Tie</th>\n",
       "      <th>No Results</th>\n",
       "      <th>Points</th>\n",
       "      <th>Net Run Rate</th>\n",
       "    </tr>\n",
       "  </thead>\n",
       "  <tbody>\n",
       "    <tr>\n",
       "      <th>7</th>\n",
       "      <td>8</td>\n",
       "      <td>Bangladesh</td>\n",
       "      <td>9</td>\n",
       "      <td>2</td>\n",
       "      <td>7</td>\n",
       "      <td>0</td>\n",
       "      <td>0</td>\n",
       "      <td>4</td>\n",
       "      <td>-1.087</td>\n",
       "    </tr>\n",
       "    <tr>\n",
       "      <th>8</th>\n",
       "      <td>9</td>\n",
       "      <td>Sri Lanka</td>\n",
       "      <td>9</td>\n",
       "      <td>2</td>\n",
       "      <td>7</td>\n",
       "      <td>0</td>\n",
       "      <td>0</td>\n",
       "      <td>4</td>\n",
       "      <td>-1.419</td>\n",
       "    </tr>\n",
       "    <tr>\n",
       "      <th>9</th>\n",
       "      <td>10</td>\n",
       "      <td>Netherlands</td>\n",
       "      <td>9</td>\n",
       "      <td>2</td>\n",
       "      <td>7</td>\n",
       "      <td>0</td>\n",
       "      <td>0</td>\n",
       "      <td>4</td>\n",
       "      <td>-1.825</td>\n",
       "    </tr>\n",
       "  </tbody>\n",
       "</table>\n",
       "</div>"
      ],
      "text/plain": [
       "   Ranking         Team  Matches  Won  Lost  Tie  No Results  Points  \\\n",
       "7        8   Bangladesh        9    2     7    0           0       4   \n",
       "8        9    Sri Lanka        9    2     7    0           0       4   \n",
       "9       10  Netherlands        9    2     7    0           0       4   \n",
       "\n",
       "   Net Run Rate  \n",
       "7        -1.087  \n",
       "8        -1.419  \n",
       "9        -1.825  "
      ]
     },
     "execution_count": 145,
     "metadata": {},
     "output_type": "execute_result"
    }
   ],
   "source": [
    "df2[df2['Points']==df2['Points'].min()]"
   ]
  },
  {
   "cell_type": "markdown",
   "id": "3212c477-d4a9-4267-931f-6360597c698e",
   "metadata": {},
   "source": [
    "## Top Performers Ananlysis"
   ]
  },
  {
   "cell_type": "markdown",
   "id": "58eaf56a-b227-41cf-b0da-f09b7bec3e6a",
   "metadata": {},
   "source": [
    "**Reading Data**"
   ]
  },
  {
   "cell_type": "code",
   "execution_count": 149,
   "id": "8ca47966-66ee-484c-9c81-43073850ecab",
   "metadata": {},
   "outputs": [],
   "source": [
    "df3=pd.read_csv('deliveries.csv')"
   ]
  },
  {
   "cell_type": "code",
   "execution_count": 361,
   "id": "3b2f02a3-4551-4dbc-b94a-013931b7146f",
   "metadata": {},
   "outputs": [
    {
     "data": {
      "text/html": [
       "<div>\n",
       "<style scoped>\n",
       "    .dataframe tbody tr th:only-of-type {\n",
       "        vertical-align: middle;\n",
       "    }\n",
       "\n",
       "    .dataframe tbody tr th {\n",
       "        vertical-align: top;\n",
       "    }\n",
       "\n",
       "    .dataframe thead th {\n",
       "        text-align: right;\n",
       "    }\n",
       "</style>\n",
       "<table border=\"1\" class=\"dataframe\">\n",
       "  <thead>\n",
       "    <tr style=\"text-align: right;\">\n",
       "      <th></th>\n",
       "      <th>match_id</th>\n",
       "      <th>season</th>\n",
       "      <th>start_date</th>\n",
       "      <th>venue</th>\n",
       "      <th>innings</th>\n",
       "      <th>ball</th>\n",
       "      <th>batting_team</th>\n",
       "      <th>bowling_team</th>\n",
       "      <th>striker</th>\n",
       "      <th>non_striker</th>\n",
       "      <th>...</th>\n",
       "      <th>wides</th>\n",
       "      <th>noballs</th>\n",
       "      <th>byes</th>\n",
       "      <th>legbyes</th>\n",
       "      <th>penalty</th>\n",
       "      <th>wicket_type</th>\n",
       "      <th>player_dismissed</th>\n",
       "      <th>other_wicket_type</th>\n",
       "      <th>other_player_dismissed</th>\n",
       "      <th>runs_conceded</th>\n",
       "    </tr>\n",
       "  </thead>\n",
       "  <tbody>\n",
       "    <tr>\n",
       "      <th>0</th>\n",
       "      <td>1</td>\n",
       "      <td>2023/24</td>\n",
       "      <td>2023-10-05</td>\n",
       "      <td>Narendra Modi Stadium, Ahmedabad</td>\n",
       "      <td>1</td>\n",
       "      <td>0.1</td>\n",
       "      <td>England</td>\n",
       "      <td>New Zealand</td>\n",
       "      <td>JM Bairstow</td>\n",
       "      <td>DJ Malan</td>\n",
       "      <td>...</td>\n",
       "      <td>0</td>\n",
       "      <td>0</td>\n",
       "      <td>NaN</td>\n",
       "      <td>NaN</td>\n",
       "      <td>NaN</td>\n",
       "      <td>NaN</td>\n",
       "      <td>NaN</td>\n",
       "      <td>NaN</td>\n",
       "      <td>NaN</td>\n",
       "      <td>0</td>\n",
       "    </tr>\n",
       "    <tr>\n",
       "      <th>1</th>\n",
       "      <td>1</td>\n",
       "      <td>2023/24</td>\n",
       "      <td>2023-10-05</td>\n",
       "      <td>Narendra Modi Stadium, Ahmedabad</td>\n",
       "      <td>1</td>\n",
       "      <td>0.2</td>\n",
       "      <td>England</td>\n",
       "      <td>New Zealand</td>\n",
       "      <td>JM Bairstow</td>\n",
       "      <td>DJ Malan</td>\n",
       "      <td>...</td>\n",
       "      <td>0</td>\n",
       "      <td>0</td>\n",
       "      <td>NaN</td>\n",
       "      <td>NaN</td>\n",
       "      <td>NaN</td>\n",
       "      <td>NaN</td>\n",
       "      <td>NaN</td>\n",
       "      <td>NaN</td>\n",
       "      <td>NaN</td>\n",
       "      <td>6</td>\n",
       "    </tr>\n",
       "    <tr>\n",
       "      <th>2</th>\n",
       "      <td>1</td>\n",
       "      <td>2023/24</td>\n",
       "      <td>2023-10-05</td>\n",
       "      <td>Narendra Modi Stadium, Ahmedabad</td>\n",
       "      <td>1</td>\n",
       "      <td>0.3</td>\n",
       "      <td>England</td>\n",
       "      <td>New Zealand</td>\n",
       "      <td>JM Bairstow</td>\n",
       "      <td>DJ Malan</td>\n",
       "      <td>...</td>\n",
       "      <td>0</td>\n",
       "      <td>0</td>\n",
       "      <td>NaN</td>\n",
       "      <td>NaN</td>\n",
       "      <td>NaN</td>\n",
       "      <td>NaN</td>\n",
       "      <td>NaN</td>\n",
       "      <td>NaN</td>\n",
       "      <td>NaN</td>\n",
       "      <td>1</td>\n",
       "    </tr>\n",
       "    <tr>\n",
       "      <th>3</th>\n",
       "      <td>1</td>\n",
       "      <td>2023/24</td>\n",
       "      <td>2023-10-05</td>\n",
       "      <td>Narendra Modi Stadium, Ahmedabad</td>\n",
       "      <td>1</td>\n",
       "      <td>0.4</td>\n",
       "      <td>England</td>\n",
       "      <td>New Zealand</td>\n",
       "      <td>DJ Malan</td>\n",
       "      <td>JM Bairstow</td>\n",
       "      <td>...</td>\n",
       "      <td>0</td>\n",
       "      <td>0</td>\n",
       "      <td>NaN</td>\n",
       "      <td>NaN</td>\n",
       "      <td>NaN</td>\n",
       "      <td>NaN</td>\n",
       "      <td>NaN</td>\n",
       "      <td>NaN</td>\n",
       "      <td>NaN</td>\n",
       "      <td>1</td>\n",
       "    </tr>\n",
       "    <tr>\n",
       "      <th>4</th>\n",
       "      <td>1</td>\n",
       "      <td>2023/24</td>\n",
       "      <td>2023-10-05</td>\n",
       "      <td>Narendra Modi Stadium, Ahmedabad</td>\n",
       "      <td>1</td>\n",
       "      <td>0.5</td>\n",
       "      <td>England</td>\n",
       "      <td>New Zealand</td>\n",
       "      <td>JM Bairstow</td>\n",
       "      <td>DJ Malan</td>\n",
       "      <td>...</td>\n",
       "      <td>0</td>\n",
       "      <td>0</td>\n",
       "      <td>NaN</td>\n",
       "      <td>NaN</td>\n",
       "      <td>NaN</td>\n",
       "      <td>NaN</td>\n",
       "      <td>NaN</td>\n",
       "      <td>NaN</td>\n",
       "      <td>NaN</td>\n",
       "      <td>4</td>\n",
       "    </tr>\n",
       "  </tbody>\n",
       "</table>\n",
       "<p>5 rows × 23 columns</p>\n",
       "</div>"
      ],
      "text/plain": [
       "   match_id   season  start_date                             venue  innings  \\\n",
       "0         1  2023/24  2023-10-05  Narendra Modi Stadium, Ahmedabad        1   \n",
       "1         1  2023/24  2023-10-05  Narendra Modi Stadium, Ahmedabad        1   \n",
       "2         1  2023/24  2023-10-05  Narendra Modi Stadium, Ahmedabad        1   \n",
       "3         1  2023/24  2023-10-05  Narendra Modi Stadium, Ahmedabad        1   \n",
       "4         1  2023/24  2023-10-05  Narendra Modi Stadium, Ahmedabad        1   \n",
       "\n",
       "   ball batting_team bowling_team      striker  non_striker  ... wides  \\\n",
       "0   0.1      England  New Zealand  JM Bairstow     DJ Malan  ...     0   \n",
       "1   0.2      England  New Zealand  JM Bairstow     DJ Malan  ...     0   \n",
       "2   0.3      England  New Zealand  JM Bairstow     DJ Malan  ...     0   \n",
       "3   0.4      England  New Zealand     DJ Malan  JM Bairstow  ...     0   \n",
       "4   0.5      England  New Zealand  JM Bairstow     DJ Malan  ...     0   \n",
       "\n",
       "   noballs  byes  legbyes  penalty  wicket_type  player_dismissed  \\\n",
       "0        0   NaN      NaN      NaN          NaN               NaN   \n",
       "1        0   NaN      NaN      NaN          NaN               NaN   \n",
       "2        0   NaN      NaN      NaN          NaN               NaN   \n",
       "3        0   NaN      NaN      NaN          NaN               NaN   \n",
       "4        0   NaN      NaN      NaN          NaN               NaN   \n",
       "\n",
       "   other_wicket_type other_player_dismissed runs_conceded  \n",
       "0                NaN                    NaN             0  \n",
       "1                NaN                    NaN             6  \n",
       "2                NaN                    NaN             1  \n",
       "3                NaN                    NaN             1  \n",
       "4                NaN                    NaN             4  \n",
       "\n",
       "[5 rows x 23 columns]"
      ]
     },
     "execution_count": 361,
     "metadata": {},
     "output_type": "execute_result"
    }
   ],
   "source": [
    "df3.head(5)"
   ]
  },
  {
   "cell_type": "code",
   "execution_count": 169,
   "id": "0c06bad6-9282-4eda-b8a7-69fee85b18fd",
   "metadata": {},
   "outputs": [
    {
     "name": "stdout",
     "output_type": "stream",
     "text": [
      "<class 'pandas.core.frame.DataFrame'>\n",
      "RangeIndex: 26119 entries, 0 to 26118\n",
      "Data columns (total 22 columns):\n",
      " #   Column                  Non-Null Count  Dtype  \n",
      "---  ------                  --------------  -----  \n",
      " 0   match_id                26119 non-null  int64  \n",
      " 1   season                  26119 non-null  object \n",
      " 2   start_date              26119 non-null  object \n",
      " 3   venue                   26119 non-null  object \n",
      " 4   innings                 26119 non-null  int64  \n",
      " 5   ball                    26119 non-null  float64\n",
      " 6   batting_team            26119 non-null  object \n",
      " 7   bowling_team            26119 non-null  object \n",
      " 8   striker                 26119 non-null  object \n",
      " 9   non_striker             26119 non-null  object \n",
      " 10  bowler                  26119 non-null  object \n",
      " 11  runs_off_bat            26119 non-null  int64  \n",
      " 12  extras                  26119 non-null  int64  \n",
      " 13  wides                   665 non-null    float64\n",
      " 14  noballs                 56 non-null     float64\n",
      " 15  byes                    38 non-null     float64\n",
      " 16  legbyes                 193 non-null    float64\n",
      " 17  penalty                 1 non-null      float64\n",
      " 18  wicket_type             729 non-null    object \n",
      " 19  player_dismissed        729 non-null    object \n",
      " 20  other_wicket_type       1 non-null      object \n",
      " 21  other_player_dismissed  1 non-null      object \n",
      "dtypes: float64(6), int64(4), object(12)\n",
      "memory usage: 4.4+ MB\n"
     ]
    }
   ],
   "source": [
    "df3.info()"
   ]
  },
  {
   "cell_type": "code",
   "execution_count": 363,
   "id": "c9dff4d1-c7d5-4abe-b0b4-78327873154c",
   "metadata": {},
   "outputs": [
    {
     "data": {
      "text/plain": [
       "(26119, 23)"
      ]
     },
     "execution_count": 363,
     "metadata": {},
     "output_type": "execute_result"
    }
   ],
   "source": [
    "df3.shape"
   ]
  },
  {
   "cell_type": "code",
   "execution_count": 171,
   "id": "903b4ed5-274c-4027-bf20-b25c7d403ec1",
   "metadata": {},
   "outputs": [
    {
     "data": {
      "text/plain": [
       "match_id                      0\n",
       "season                        0\n",
       "start_date                    0\n",
       "venue                         0\n",
       "innings                       0\n",
       "ball                          0\n",
       "batting_team                  0\n",
       "bowling_team                  0\n",
       "striker                       0\n",
       "non_striker                   0\n",
       "bowler                        0\n",
       "runs_off_bat                  0\n",
       "extras                        0\n",
       "wides                     25454\n",
       "noballs                   26063\n",
       "byes                      26081\n",
       "legbyes                   25926\n",
       "penalty                   26118\n",
       "wicket_type               25390\n",
       "player_dismissed          25390\n",
       "other_wicket_type         26118\n",
       "other_player_dismissed    26118\n",
       "dtype: int64"
      ]
     },
     "execution_count": 171,
     "metadata": {},
     "output_type": "execute_result"
    }
   ],
   "source": [
    "df3.isnull().sum()"
   ]
  },
  {
   "cell_type": "markdown",
   "id": "b7733aba-27fd-4d25-a74c-1389fe471c74",
   "metadata": {},
   "source": [
    "**Transforming Data**"
   ]
  },
  {
   "cell_type": "code",
   "execution_count": 374,
   "id": "20096a88-cae2-410c-8a1c-8f4fcb9857b8",
   "metadata": {},
   "outputs": [],
   "source": [
    "df3['wides']=df3['wides'].fillna(0).astype(int)\n",
    "df3['noballs']=df3['noballs'].fillna(0).astype(int)"
   ]
  },
  {
   "cell_type": "markdown",
   "id": "89855eed-08fa-4da5-80cb-3d3313b029d2",
   "metadata": {},
   "source": [
    "**Top runs scorer**"
   ]
  },
  {
   "cell_type": "code",
   "execution_count": 210,
   "id": "e05e1c51-75cd-4f11-9b8a-d82ca5228571",
   "metadata": {},
   "outputs": [
    {
     "data": {
      "text/plain": [
       "striker\n",
       "V Kohli        765\n",
       "RG Sharma      597\n",
       "Q de Kock      594\n",
       "R Ravindra     578\n",
       "DJ Mitchell    552\n",
       "Name: runs_off_bat, dtype: int64"
      ]
     },
     "execution_count": 210,
     "metadata": {},
     "output_type": "execute_result"
    }
   ],
   "source": [
    "top_player=df3.groupby('striker')['runs_off_bat'].sum().sort_values(ascending=False)\n",
    "top_player.head(5)"
   ]
  },
  {
   "cell_type": "markdown",
   "id": "c8d97a14-3800-4408-a457-f80d6517680b",
   "metadata": {},
   "source": [
    "**Top wicket taker**\n"
   ]
  },
  {
   "cell_type": "code",
   "execution_count": 234,
   "id": "cd277614-0fcf-4b4d-be2a-ab69123e14fb",
   "metadata": {},
   "outputs": [
    {
     "data": {
      "text/plain": [
       "bowler\n",
       "Mohammed Shami    25\n",
       "A Zampa           23\n",
       "D Madushanka      22\n",
       "G Coetzee         20\n",
       "JJ Bumrah         20\n",
       "Name: count, dtype: int64"
      ]
     },
     "execution_count": 234,
     "metadata": {},
     "output_type": "execute_result"
    }
   ],
   "source": [
    "wickets_data = df3.dropna(subset=['wicket_type'])\n",
    "a=(wickets_data['bowler'].value_counts()).head()\n",
    "a"
   ]
  },
  {
   "cell_type": "markdown",
   "id": "c423b710-04ed-4eae-8673-ce58fd48083c",
   "metadata": {},
   "source": [
    "**Total wicket taken, team-wise**\n"
   ]
  },
  {
   "cell_type": "code",
   "execution_count": 372,
   "id": "59038772-c005-4256-96e9-431cfb90044b",
   "metadata": {},
   "outputs": [
    {
     "data": {
      "text/plain": [
       "bowling_team\n",
       "India           100\n",
       "Australia        93\n",
       "South Africa     89\n",
       "New Zealand      73\n",
       "England          69\n",
       "Pakistan         67\n",
       "Netherlands      66\n",
       "Afghanistan      61\n",
       "Sri Lanka        57\n",
       "Bangladesh       54\n",
       "Name: wicket_type, dtype: int64"
      ]
     },
     "execution_count": 372,
     "metadata": {},
     "output_type": "execute_result"
    }
   ],
   "source": [
    "wickets_team=df3.groupby('bowling_team')['wicket_type'].count().sort_values(ascending=False)\n",
    "wickets_team"
   ]
  },
  {
   "cell_type": "markdown",
   "id": "f7cc349b-3c8e-4d9b-82ad-7d560268e8b4",
   "metadata": {},
   "source": [
    "**Best economoy rate**"
   ]
  },
  {
   "cell_type": "code",
   "execution_count": 378,
   "id": "77cfd60c-70d3-4ad4-bf1c-c8e0078ed927",
   "metadata": {},
   "outputs": [
    {
     "name": "stdout",
     "output_type": "stream",
     "text": [
      "           bowler  economy_rate  ball\n",
      "73       R Ashwin      3.400000    60\n",
      "33      JJ Bumrah      3.905759   573\n",
      "36     KA Maharaj      4.095941   542\n",
      "59  Mohammad Nabi      4.096774   372\n",
      "76      RA Jadeja      4.226549   565\n",
      "..            ...           ...   ...\n",
      "28   Hasan Mahmud      9.000000    88\n",
      "37   KIC Asalanka     10.000000     6\n",
      "29       IS Sodhi     10.560000    25\n",
      "31    JDS Neesham     10.584270    89\n",
      "80    Rahmat Shah     12.000000     6\n",
      "\n",
      "[102 rows x 3 columns]\n"
     ]
    }
   ],
   "source": [
    "df3['runs_conceded'] = df3['runs_off_bat'] + df3['wides'] +df3['noballs']\n",
    "best_eco = df3.groupby('bowler').agg({'runs_conceded': 'sum', 'ball': 'count'}).reset_index()\n",
    "best_eco['overs_bowled'] = best_eco['ball'] / 6 \n",
    "best_eco['economy_rate'] = best_eco['runs_conceded'] / best_eco['overs_bowled']\n",
    "\n",
    "print(best_eco[['bowler', 'economy_rate','ball']].sort_values(by='economy_rate',ascending=True))"
   ]
  },
  {
   "cell_type": "markdown",
   "id": "5c9f5d01-6048-45a4-b6dd-b30f6fd6dede",
   "metadata": {},
   "source": [
    "**Highest Individual Score**"
   ]
  },
  {
   "cell_type": "code",
   "execution_count": 319,
   "id": "020663b9-ca58-4de6-b773-bd3150725a13",
   "metadata": {},
   "outputs": [
    {
     "name": "stdout",
     "output_type": "stream",
     "text": [
      "match_id  striker          \n",
      "39        GJ Maxwell           201\n",
      "43        MR Marsh             177\n",
      "23        Q de Kock            174\n",
      "18        DA Warner            163\n",
      "1         DP Conway            152\n",
      "7         DJ Malan             140\n",
      "48        TM Head              137\n",
      "46        DJ Mitchell          134\n",
      "32        HE van der Dussen    133\n",
      "8         Mohammad Rizwan      131\n",
      "Name: runs_off_bat, dtype: int64\n"
     ]
    }
   ],
   "source": [
    "highest_individual_scores = df3.groupby(['match_id', 'striker'])['runs_off_bat'].sum().reset_index()\n",
    "max_scores_in_each_match = highest_individual_scores.groupby(['match_id','striker'])['runs_off_bat'].max().sort_values(ascending=False)\n",
    "\n",
    "print(max_scores_in_each_match.head(10))"
   ]
  },
  {
   "cell_type": "code",
   "execution_count": null,
   "id": "4a14ee23-843b-40f9-89f9-7f774e820f84",
   "metadata": {},
   "outputs": [],
   "source": []
  }
 ],
 "metadata": {
  "kernelspec": {
   "display_name": "Python 3 (ipykernel)",
   "language": "python",
   "name": "python3"
  },
  "language_info": {
   "codemirror_mode": {
    "name": "ipython",
    "version": 3
   },
   "file_extension": ".py",
   "mimetype": "text/x-python",
   "name": "python",
   "nbconvert_exporter": "python",
   "pygments_lexer": "ipython3",
   "version": "3.12.4"
  }
 },
 "nbformat": 4,
 "nbformat_minor": 5
}
